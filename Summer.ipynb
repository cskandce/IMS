{
  "nbformat": 4,
  "nbformat_minor": 0,
  "metadata": {
    "kernelspec": {
      "display_name": "Python 2",
      "language": "python",
      "name": "python2"
    },
    "language_info": {
      "codemirror_mode": {
        "name": "ipython",
        "version": 2
      },
      "file_extension": ".py",
      "mimetype": "text/x-python",
      "name": "python",
      "nbconvert_exporter": "python",
      "pygments_lexer": "ipython2",
      "version": "2.7.16"
    },
    "colab": {
      "name": "Summer.ipynb",
      "provenance": [],
      "collapsed_sections": [],
      "include_colab_link": true
    }
  },
  "cells": [
    {
      "cell_type": "markdown",
      "metadata": {
        "id": "view-in-github",
        "colab_type": "text"
      },
      "source": [
        "<a href=\"https://colab.research.google.com/github/cskandce/IMS/blob/main/Summer.ipynb\" target=\"_parent\"><img src=\"https://colab.research.google.com/assets/colab-badge.svg\" alt=\"Open In Colab\"/></a>"
      ]
    },
    {
      "cell_type": "markdown",
      "metadata": {
        "id": "KpBQcsxCeiAr"
      },
      "source": [
        "# Summer Olympics Data Analysis Assignment\n",
        "https://colab.research.google.com/drive/1rzygKdOTGtO-3IqXJAyXnGqsmzIZJ6Y3?usp=sharing\n"
      ]
    },
    {
      "cell_type": "markdown",
      "metadata": {
        "id": "ygHEz6NNeiAx"
      },
      "source": [
        "### 1. In how many cities Summer Olympics is held so far?"
      ]
    },
    {
      "cell_type": "markdown",
      "metadata": {
        "id": "QxZXHTeY7_gw"
      },
      "source": [
        ""
      ]
    },
    {
      "cell_type": "markdown",
      "metadata": {
        "id": "YnDTwiUvjx7-"
      },
      "source": [
        "22\n"
      ]
    },
    {
      "cell_type": "markdown",
      "metadata": {
        "id": "UW0pejb_eiA3"
      },
      "source": [
        "### 2. Which sport is having most number of Gold Medals so far? (Top 5)"
      ]
    },
    {
      "cell_type": "code",
      "metadata": {
        "id": "WHgIYIkEeiA4"
      },
      "source": [
        "#[['Aquatics', 1421], ['Athletics', 1215],['Rowling', 890], ['Gymnastics', 820],['Fencing', 552]]"
      ],
      "execution_count": null,
      "outputs": []
    },
    {
      "cell_type": "markdown",
      "metadata": {
        "id": "j3nFYMj4eiA5"
      },
      "source": [
        "### 3. Which sport is having most number of medals so far? (Top 5)"
      ]
    },
    {
      "cell_type": "code",
      "metadata": {
        "id": "Q4izpXrGeiA6"
      },
      "source": [
        "\"\"\"Sport\t Medals\n",
        " Aquatics\t  4170\n",
        " Athletics\t3638\n",
        " Rowing\t    2667\n",
        " Gymnastics\t2307\n",
        " Fencing\t  1613\"\"\""
      ],
      "execution_count": null,
      "outputs": []
    },
    {
      "cell_type": "markdown",
      "metadata": {
        "id": "ZbGX10vheiA8"
      },
      "source": [
        "### 4. Which player has won most number of medals? (Top 5)"
      ]
    },
    {
      "cell_type": "code",
      "metadata": {
        "id": "C34RLwh-eiA-"
      },
      "source": [
        "\"\"\"\t   Athlete             \tMedals\n",
        "18640\tPHELPS, Michael       \t22\n",
        "7197\tLATYNINA, Larisa\t      18\n",
        "9948\tANDRIANOV, Nikolay    \t15\n",
        "6591\tONO, Takashi\t          13\n",
        "5103\tMANGIAROTTI, Edoardo\t  13\"\"\""
      ],
      "execution_count": null,
      "outputs": []
    },
    {
      "cell_type": "markdown",
      "metadata": {
        "id": "ZSmu8kU1eiA_"
      },
      "source": [
        "### 5. Which player has won most number Gold Medals of medals? (Top 5)"
      ]
    },
    {
      "cell_type": "code",
      "metadata": {
        "id": "1rew2ifaeiBA"
      },
      "source": [
        "\"\"\"\t    Athlete            \tGolds\n",
        "6851\tPHELPS, Michael\t       18\n",
        "3320\tSPITZ, Mark           \t9\n",
        "2714\tLATYNINA, Larisa      \t9\n",
        "4630\tLEWIS, Carl           \t9\n",
        "907\tNURMI, Paavo            \t9 \"\"\""
      ],
      "execution_count": null,
      "outputs": []
    },
    {
      "cell_type": "markdown",
      "metadata": {
        "id": "sGGq0NnkeiBB"
      },
      "source": [
        "### 6. In which year India won first Gold Medal in Summer Olympics?"
      ]
    },
    {
      "cell_type": "markdown",
      "metadata": {
        "id": "ULDAt2I_1-KO"
      },
      "source": [
        "*1923*"
      ]
    },
    {
      "cell_type": "markdown",
      "metadata": {
        "id": "Il_YM6XyeiBC"
      },
      "source": [
        "### 7. Which event is most popular in terms on number of players? (Top 5)"
      ]
    },
    {
      "cell_type": "code",
      "metadata": {
        "colab": {
          "base_uri": "https://localhost:8080/",
          "height": 52
        },
        "id": "Mmy2E-f3eiBD",
        "outputId": "fcdf5440-079b-439e-a5a6-d0d463acccd5"
      },
      "source": [
        "\"\"\"  Events\t                  Players\n",
        "80\tFootball\t                 1357\n",
        "176\tHockey\t                   1154\n",
        "138\tTeam Competition            975\n",
        "83\tEight With Coxswain (8+)\t  828\n",
        "327\tBasketball\t                814\"\"\""
      ],
      "execution_count": null,
      "outputs": [
        {
          "output_type": "execute_result",
          "data": {
            "application/vnd.google.colaboratory.intrinsic+json": {
              "type": "string"
            },
            "text/plain": [
              "'  Events\\t                  Players\\n80\\tFootball\\t                 1357\\n176\\tHockey\\t                   1154\\n138\\tTeam Competition            975\\n83\\tEight With Coxswain (8+)\\t  828\\n327\\tBasketball\\t                814'"
            ]
          },
          "metadata": {},
          "execution_count": 1
        }
      ]
    },
    {
      "cell_type": "markdown",
      "metadata": {
        "id": "S75bfuHTeiBD"
      },
      "source": [
        "### 8. Which sport is having most female Gold Medalists? (Top 5)"
      ]
    },
    {
      "cell_type": "code",
      "metadata": {
        "id": "IYDlXAFEeiBE"
      },
      "source": [
        "\"\"\"   Sport\t               SportWomen\n",
        "7\t  Athletics\t               2655\n",
        "4\t  Aquatics                 2516\n",
        "14\tRowing                   2177\n",
        "8\t  Gymnastics          \t   1401\n",
        "21\tFootball          \t     1357 \"\"\""
      ],
      "execution_count": null,
      "outputs": []
    }
  ]
}