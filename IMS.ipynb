{
  "nbformat": 4,
  "nbformat_minor": 0,
  "metadata": {
    "colab": {
      "name": "IMS.ipynb",
      "provenance": [],
      "collapsed_sections": []
    },
    "kernelspec": {
      "name": "python3",
      "display_name": "Python 3"
    },
    "language_info": {
      "name": "python"
    }
  },
  "cells": [
    {
      "cell_type": "code",
      "metadata": {
        "id": "WTRjhG9XpfVN"
      },
      "source": [
        "import time \n",
        "import json"
      ],
      "execution_count": null,
      "outputs": []
    },
    {
      "cell_type": "markdown",
      "metadata": {
        "id": "N-J2wECEqpkK"
      },
      "source": [
        "# #Inventory Management System"
      ]
    },
    {
      "cell_type": "code",
      "metadata": {
        "id": "pR10tvV9qwDI"
      },
      "source": [
        "Inventory = {\"1\": {\"Pr_name\": \"earphone\", \"price\": 189.0, \"Stock\": 25, \"category\": \"electronics\", \"discount\": 0}, \"2\": {\"Pr_name\n",
        "\n",
        "\": \"HDD\", \"price\": 45.0, \"Stock\": 25, \"category\": \"electronics\", \"discount\": 4}, \"3\": {\"Pr_name\n",
        "\n",
        "\": \"CHARGER\", \"price\": 99.0, \"Stock\": 25, \"category\": \"electronics\", \"discount\": 12}, \"4\": {\"Pr_name\n",
        "\n",
        "\": \"TEA\", \"price\": 49.0, \"Stock\": 25, \"category\": \"Drinks\", \"discount\": 3}, \"5\": {\"Pr_name\n",
        "\n",
        "\": \"cashew\", \"price\": 149.0, \"Stock\": 25, \"category\": \"eatables\", \"discount\": 8}, \"6\": {\"Pr_name\n",
        "\n",
        "\": \"TAPE\", \"price\": 299.0, \"Stock\": 25, \"category\": \"eatables\", \"discount\": 23}, \"7\": {\"Pr_name\n",
        "\n",
        "\": \"gooday\", \"price\": 149.0, \"Stock\": 25, \"category\": \"eatables\", \"discount\": 13}, \"8\": {\"Pr_name\n",
        "\n",
        "\": \"parle g\", \"price\": 89.0, \"Stock\": 25, \"category\": \"Drinks\", \"discount\": 67}, \"9\": {\"Pr_name\n",
        "\n",
        "\": \"bingo\", \"price\": 69.0, \"Stock\": 25, \"category\": \"Drinks\", \"discount\": 11}, \"10\": {\"Pr_name\n",
        "\n",
        "\": \"5 star\", \"price\": 49.0, \"Stock\": 25, \"category\": \"eatables\", \"discount\": 15}, \"11\": {\"Pr_name\n",
        "\n",
        "\": \"hersheys\", \"price\": 149.0, \"Stock\": 25, \"category\": \"eatables\", \"discount\": 45}, \"12\": {\"Pr_name\n",
        "\n",
        "\": \"oil\", \"price\": 79.0, \"Stock\": 25, \"category\": \"eatables\", \"discount\": 0}, \"13\": {\"Pr_name\n",
        "\n",
        "\": \"dairy milk\", \"price\": 249.0, \"Stock\": 25, \"category\": \"Drinks\", \"discount\": 34}, \"14\": {\"Pr_name\n",
        "\n",
        "\": \"hair oil\", \"price\": 229.0, \"Stock\": 25, \"category\": \"cosmetic\", \"discount\": 12}, \"15\": {\"Pr_name\n",
        "\n",
        "\": \"comb\", \"price\": 29.0, \"Stock\": 25, \"category\": \"cosmetic\", \"discount\": 76}, \"16\": {\"Pr_name\n",
        "\n",
        "\": \"refine oil\", \"price\": 39.0, \"Stock\": 25, \"category\": \"eatables\", \"discount\": 10}, \"17\": {\"Pr_name\n",
        "\n",
        "\": \"masala puri\", \"price\": 10.0, \"Stock\": 25, \"category\": \"eatables\", \"discount\": 7}, \"18\": {\"Pr_name\n",
        "\n",
        "\": \"candy\", \"price\": 50.0, \"Stock\": 25, \"category\": \"eatables\", \"discount\": 56}, \"19\": {\"Pr_name\n",
        "\n",
        "\": \"sauce\", \"price\": 100.0, \"Stock\": 25, \"category\": \"eatables\", \"discount\": 34}, \"20\": {\"Pr_name\n",
        "\n",
        "\": \"soyabean\", \"price\": 150.0, \"Stock\": 25, \"category\": \"eatables\", \"discount\": 21}, \"21\": {\"Pr_name\n",
        "\n",
        "\": \"fruits\", \"price\": 200.0, \"Stock\": 25, \"category\": \"eatables\", \"discount\": 17}, \"22\": {\"Pr_name\n",
        "\n",
        "\": \"stationary\", \"price\": 250.0, \"Stock\": 25, \"category\": \"education\", \"discount\": 14}, \"23\": {\"Pr_name\n",
        "\n",
        "\": \"cake\", \"price\": 80.0, \"Stock\": 25, \"category\": \"decor\", \"discount\": 0}, \"24\": {\"Pr_name\n",
        "\n",
        "\": \"almond\", \"price\": 75.0, \"Stock\": 25, \"category\": \"decor\", \"discount\": 5 }, \"25\": {\"Pr_name\n",
        "\n",
        "\": \"glass\", \"price\": 45.0, \"Stock\": 25, \"category\": \"decor\", \"discount\": 6}, \"26\": {\"Pr_name\n",
        "\n",
        "\": \"alcohol\", \"price\": 105.0, \"Stock\": 25, \"category\": \"Drinks\", \"discount\": 80}, \"27\": {\"Pr_name\n",
        "\n",
        "\": \"hairpin\", \"price\": 155.0, \"Stock\": 25, \"category\": \"cosmetic\", \"discount\": 43}, \"28\": {\"Pr_name\n",
        "\n",
        "\": \"facewash\", \"price\": 245.0, \"Stock\": 25, \"category\": \"cosmetic\", \"discount\": 57}, \"29\": {\"Pr_name\n",
        "\n",
        "\": \"toys\", \"price\": 225.0, \"Stock\": 25, \"category\": \"decor\", \"discount\": 90}, \"30\": {\"Pr_name\n",
        "\n",
        "\": \"book\", \"price\": 285.0, \"Stock\": 50, \"category\": \"education\", \"discount\": 1}}\n",
        "\n",
        "\n",
        "\n"
      ],
      "execution_count": null,
      "outputs": []
    },
    {
      "cell_type": "code",
      "metadata": {
        "id": "HNZc9JT0vAYT"
      },
      "source": [
        "dic['1'][\"price\"] = 200"
      ],
      "execution_count": null,
      "outputs": []
    },
    {
      "cell_type": "code",
      "metadata": {
        "colab": {
          "base_uri": "https://localhost:8080/"
        },
        "id": "FKCONvt6vIVJ",
        "outputId": "ffb3f330-c811-47ba-d9d4-47295959e503"
      },
      "source": [
        "print(dic['1'][\"price\"])"
      ],
      "execution_count": null,
      "outputs": [
        {
          "output_type": "stream",
          "name": "stdout",
          "text": [
            "200\n"
          ]
        }
      ]
    },
    {
      "cell_type": "markdown",
      "metadata": {
        "id": "zCJTDj3jphqd"
      },
      "source": [
        "# Converting To JSON Format"
      ]
    },
    {
      "cell_type": "code",
      "metadata": {
        "id": "Xj1C_oufpiwi"
      },
      "source": [
        "import json"
      ],
      "execution_count": null,
      "outputs": []
    },
    {
      "cell_type": "code",
      "metadata": {
        "id": "K3e4YeojpuDS"
      },
      "source": [
        "Details = open(\"Inventory.txt\",'r')\n",
        "Data = Details.read()\n",
        "Details.close()"
      ],
      "execution_count": null,
      "outputs": []
    },
    {
      "cell_type": "code",
      "metadata": {
        "colab": {
          "base_uri": "https://localhost:8080/"
        },
        "id": "DtnThD3ip1ij",
        "outputId": "6727dbaa-0f8b-4655-b6d7-2e4af49d6336"
      },
      "source": [
        "Inv = json.loads(t)\n",
        "Inv"
      ],
      "execution_count": null,
      "outputs": [
        {
          "output_type": "execute_result",
          "data": {
            "text/plain": [
              "{'1': {'category': 'electronics',\n",
              "  'discount': 0,\n",
              "  'name': 'earphone',\n",
              "  'price': 189.0,\n",
              "  'quantity': 25},\n",
              " '10': {'category': 'eatables',\n",
              "  'discount': 15,\n",
              "  'name': '5 star',\n",
              "  'price': 49.0,\n",
              "  'quantity': 25},\n",
              " '11': {'category': 'eatables',\n",
              "  'discount': 45,\n",
              "  'name': 'hersheys',\n",
              "  'price': 149.0,\n",
              "  'quantity': 25},\n",
              " '12': {'category': 'eatables',\n",
              "  'discount': 0,\n",
              "  'name': 'oil',\n",
              "  'price': 79.0,\n",
              "  'quantity': 25},\n",
              " '13': {'category': 'Drinks',\n",
              "  'discount': 34,\n",
              "  'name': 'dairy milk',\n",
              "  'price': 249.0,\n",
              "  'quantity': 25},\n",
              " '14': {'category': 'cosmetic',\n",
              "  'discount': 12,\n",
              "  'name': 'hair oil',\n",
              "  'price': 229.0,\n",
              "  'quantity': 25},\n",
              " '15': {'category': 'cosmetic',\n",
              "  'discount': 76,\n",
              "  'name': 'comb',\n",
              "  'price': 29.0,\n",
              "  'quantity': 25},\n",
              " '16': {'category': 'eatables',\n",
              "  'discount': 10,\n",
              "  'name': 'refine oil',\n",
              "  'price': 39.0,\n",
              "  'quantity': 25},\n",
              " '17': {'category': 'eatables',\n",
              "  'discount': 7,\n",
              "  'name': 'masala puri',\n",
              "  'price': 10.0,\n",
              "  'quantity': 25},\n",
              " '18': {'category': 'eatables',\n",
              "  'discount': 56,\n",
              "  'name': 'candy',\n",
              "  'price': 50.0,\n",
              "  'quantity': 25},\n",
              " '19': {'category': 'eatables',\n",
              "  'discount': 34,\n",
              "  'name': 'sauce',\n",
              "  'price': 100.0,\n",
              "  'quantity': 25},\n",
              " '2': {'category': 'electronics',\n",
              "  'discount': 4,\n",
              "  'name': 'HDD',\n",
              "  'price': 45.0,\n",
              "  'quantity': 25},\n",
              " '20': {'category': 'eatables',\n",
              "  'discount': 21,\n",
              "  'name': 'soyabean',\n",
              "  'price': 150.0,\n",
              "  'quantity': 25},\n",
              " '21': {'category': 'eatables',\n",
              "  'discount': 17,\n",
              "  'name': 'fruits',\n",
              "  'price': 200.0,\n",
              "  'quantity': 25},\n",
              " '22': {'category': 'education',\n",
              "  'discount': 14,\n",
              "  'name': 'stationary',\n",
              "  'price': 250.0,\n",
              "  'quantity': 25},\n",
              " '23': {'category': 'decor',\n",
              "  'discount': 0,\n",
              "  'name': 'cake',\n",
              "  'price': 80.0,\n",
              "  'quantity': 25},\n",
              " '24': {'category': 'decor',\n",
              "  'discount': 5,\n",
              "  'name': 'almond',\n",
              "  'price': 75.0,\n",
              "  'quantity': 25},\n",
              " '25': {'category': 'decor',\n",
              "  'discount': 6,\n",
              "  'name': 'glass',\n",
              "  'price': 45.0,\n",
              "  'quantity': 25},\n",
              " '26': {'category': 'Drinks',\n",
              "  'discount': 80,\n",
              "  'name': 'alcohol',\n",
              "  'price': 105.0,\n",
              "  'quantity': 25},\n",
              " '27': {'category': 'cosmetic',\n",
              "  'discount': 43,\n",
              "  'name': 'hairpin',\n",
              "  'price': 155.0,\n",
              "  'quantity': 25},\n",
              " '28': {'category': 'cosmetic',\n",
              "  'discount': 57,\n",
              "  'name': 'facewash',\n",
              "  'price': 245.0,\n",
              "  'quantity': 25},\n",
              " '29': {'category': 'decor',\n",
              "  'discount': 90,\n",
              "  'name': 'toys',\n",
              "  'price': 225.0,\n",
              "  'quantity': 25},\n",
              " '3': {'category': 'electronics',\n",
              "  'discount': 12,\n",
              "  'name': 'CHARGER',\n",
              "  'price': 99.0,\n",
              "  'quantity': 25},\n",
              " '30': {'category': 'education',\n",
              "  'discount': 1,\n",
              "  'name': 'book',\n",
              "  'price': 285.0,\n",
              "  'quantity': 50},\n",
              " '4': {'category': 'Drinks',\n",
              "  'discount': 3,\n",
              "  'name': 'TEA',\n",
              "  'price': 49.0,\n",
              "  'quantity': 25},\n",
              " '5': {'category': 'eatables',\n",
              "  'discount': 8,\n",
              "  'name': 'cashew',\n",
              "  'price': 149.0,\n",
              "  'quantity': 25},\n",
              " '6': {'category': 'eatables',\n",
              "  'discount': 23,\n",
              "  'name': 'TAPE',\n",
              "  'price': 299.0,\n",
              "  'quantity': 25},\n",
              " '7': {'category': 'eatables',\n",
              "  'discount': 13,\n",
              "  'name': 'gooday',\n",
              "  'price': 149.0,\n",
              "  'quantity': 25},\n",
              " '8': {'category': 'Drinks',\n",
              "  'discount': 67,\n",
              "  'name': 'parle g',\n",
              "  'price': 89.0,\n",
              "  'quantity': 25},\n",
              " '9': {'category': 'Drinks',\n",
              "  'discount': 11,\n",
              "  'name': 'bingo',\n",
              "  'price': 69.0,\n",
              "  'quantity': 25}}"
            ]
          },
          "metadata": {},
          "execution_count": 3
        }
      ]
    },
    {
      "cell_type": "code",
      "metadata": {
        "colab": {
          "base_uri": "https://localhost:8080/"
        },
        "id": "s-1ti5oKrxEv",
        "outputId": "45ad328f-dce0-4b95-da4e-36bec387c3be"
      },
      "source": [
        "print('''\n",
        "-------------------------\n",
        "Welcome to HVG elctronics\n",
        "-------------------------\n",
        "1.View items\n",
        "2.Buy items\n",
        "3.Exit\n",
        "''')"
      ],
      "execution_count": null,
      "outputs": [
        {
          "output_type": "stream",
          "name": "stdout",
          "text": [
            "\n",
            "-------------------------\n",
            "Welcome to HVG elctronics\n",
            "-------------------------\n",
            "1.View items\n",
            "2.Buy items\n",
            "3.Exit\n",
            "\n"
          ]
        }
      ]
    },
    {
      "cell_type": "markdown",
      "metadata": {
        "id": "zLgbanwTrecK"
      },
      "source": [
        "To view the items available in the market and also selecting the products of there choice by choosing choice 1"
      ]
    },
    {
      "cell_type": "code",
      "metadata": {
        "colab": {
          "base_uri": "https://localhost:8080/"
        },
        "id": "js3cWwwPp8wc",
        "outputId": "85e7178b-8f51-4994-9820-ccfe5e058c59"
      },
      "source": [
        "choice = int(input(\"Enter your option :\"))\n",
        "if choice == 1:\n",
        "  print('----------------------------------')\n",
        "  print(\"items available in HVG market\")\n",
        "  \n",
        "  print('----------------------------------')\n",
        "  \n",
        "  print('Please enter the items and quantity key which you would like to purchase:')\n",
        "  pur={}\n",
        "  for i in range (0,5):\n",
        "    n=input()\n",
        "    m=n.split(' ')\n",
        "    pur[m[0]] = int(m[1])\n",
        "\n",
        "\n",
        "\n",
        "if choice == 2:\n",
        "  print(\"Buy the items of your choice\")\n",
        "\n",
        "  amt=0\n",
        "  for i in pur:    \n",
        "    if(i in dic.keys()):\n",
        "        print('you ordered {} {}'.format(pur[i],Inv[i]['name']))\n",
        "        print('Cost {} '.format(pur[i]*Inv[i]['price']))\n",
        "        amt+=pur[i]*Inv[i]['price']\n",
        "  print('Total bill : ',amt)\n",
        "  print(time.ctime())\n",
        "\n",
        "  total={}\n",
        "  s=1\n",
        "  for i in pur:\n",
        "    if(i in dic.keys()):\n",
        "        sne={}\n",
        "        sne['item'] = Inv[i]['name']\n",
        "        sne['quantity'] = pur[i]\n",
        "        sne['price'] = Inv[i]['price']\n",
        "        sne['SP'] = Inv[i]['price']*(1.0 - Inv[i]['discount']/100.0)\n",
        "        sne['total'] = sne['SP']*pur[i]\n",
        "        total[s] = sne\n",
        "        s+=1\n",
        "  print(toal)\n",
        "  print(time.ctime())\n",
        "if choice == 3 :\n",
        "  print(\"Exit\")\n",
        "  "
      ],
      "execution_count": null,
      "outputs": [
        {
          "name": "stdout",
          "output_type": "stream",
          "text": [
            "Enter your option :1\n",
            "----------------------------------\n",
            "items available in HVG market\n",
            "----------------------------------\n",
            "Please enter the items and quantity key which you would like to purchase:\n",
            "1 3\n",
            "4 6\n",
            "7 8\n",
            "2 7\n",
            "11 2\n"
          ]
        }
      ]
    },
    {
      "cell_type": "code",
      "metadata": {
        "colab": {
          "base_uri": "https://localhost:8080/"
        },
        "id": "QfcSNXI-qP3_",
        "outputId": "985d5f9d-26ba-494e-c250-9477eec7618e"
      },
      "source": [
        "amt=0\n",
        "for i in pur:    \n",
        "  if(i in Inv.keys()):\n",
        "    print('you ordered {} {}'.format(pur[i],Inv[i]['name']))\n",
        "    print('Cost {} '.format(pur[i]*Inv[i]['price']))\n",
        "    amt+=pur[i]*Inv[i]['price']\n",
        "print('Total bill : ',amt)\n",
        "print(time.ctime())\n"
      ],
      "execution_count": null,
      "outputs": [
        {
          "output_type": "stream",
          "name": "stdout",
          "text": [
            "you ordered 3 earphone\n",
            "Cost 567.0 \n",
            "you ordered 6 TEA\n",
            "Cost 294.0 \n",
            "you ordered 8 gooday\n",
            "Cost 1192.0 \n",
            "you ordered 7 HDD\n",
            "Cost 315.0 \n",
            "you ordered 2 hersheys\n",
            "Cost 298.0 \n",
            "Total bill :  2666.0\n"
          ]
        }
      ]
    },
    {
      "cell_type": "markdown",
      "metadata": {
        "id": "Pba7HcZEqThg"
      },
      "source": [
        "To buy the products and total cost of it by choosing choice 2"
      ]
    },
    {
      "cell_type": "code",
      "metadata": {
        "colab": {
          "base_uri": "https://localhost:8080/"
        },
        "id": "rworQxH4qSss",
        "outputId": "fa7cb147-2a7e-4eb7-c43a-3cfb71105f96"
      },
      "source": [
        "choice = int(input(\"Enter your option :\"))\n",
        "if choice == 1:\n",
        "  print('----------------------------------')\n",
        "  print(\"items available in HVG market\")\n",
        "  \n",
        "  print('----------------------------------')\n",
        "  \n",
        "  print('Please enter the items and quantity key which you would like to purchase:')\n",
        "  pur={}\n",
        "  for i in range (0,5):\n",
        "    n=input()\n",
        "    m=n.split(' ')\n",
        "    pur[m[0]] = int(m[1])\n",
        "\n",
        "\n",
        "\n",
        "if choice == 2:\n",
        "  print(\"Buy the items of your choice\")\n",
        "\n",
        "  amt=0\n",
        "  for i in pur:    \n",
        "    if(i in Inv.keys()):\n",
        "        print('you ordered {} {}'.format(pur[i],Inv[i]['name']))\n",
        "        print('Cost {} '.format(pur[i]*Inv[i]['price']))\n",
        "        amt+=pur[i]*Inv[i]['price']\n",
        "  print('Total bill : ',amt)\n",
        "  print(time.ctime())\n",
        "\n",
        "  total={}\n",
        "  s=1\n",
        "  for i in pur:\n",
        "    if(i in Inv.keys()):\n",
        "        sne={}\n",
        "        sne['item'] = Inv[i]['name']\n",
        "        sne['quantity'] = pur[i]\n",
        "        sne['price'] = Inv[i]['price']\n",
        "        sne['SP'] = Inv[i]['price']*(1.0 - Inv[i]['discount']/100.0)\n",
        "        sne['total'] = sne['SP']*pur[i]\n",
        "        total[s] = sne\n",
        "        s+=1\n",
        "  print(total)\n",
        "  print(time.ctime())\n",
        "if choice == 3 :\n",
        "  print(\"Exit\")\n",
        "  "
      ],
      "execution_count": null,
      "outputs": [
        {
          "output_type": "stream",
          "name": "stdout",
          "text": [
            "Enter your option :2\n",
            "Buy the items of your choice\n",
            "you ordered 3 earphone\n",
            "Cost 567.0 \n",
            "you ordered 6 TEA\n",
            "Cost 294.0 \n",
            "you ordered 8 gooday\n",
            "Cost 1192.0 \n",
            "you ordered 7 HDD\n",
            "Cost 315.0 \n",
            "you ordered 2 hersheys\n",
            "Cost 298.0 \n",
            "Total bill :  2666.0\n",
            "{1: {'item': 'earphone', 'quantity': 3, 'price': 189.0, 'SP': 189.0, 'total': 567.0}, 2: {'item': 'TEA', 'quantity': 6, 'price': 49.0, 'SP': 47.53, 'total': 285.18}, 3: {'item': 'gooday', 'quantity': 8, 'price': 149.0, 'SP': 129.63, 'total': 1037.04}, 4: {'item': 'HDD', 'quantity': 7, 'price': 45.0, 'SP': 43.199999999999996, 'total': 302.4}, 5: {'item': 'hersheys', 'quantity': 2, 'price': 149.0, 'SP': 81.95, 'total': 163.9}}\n"
          ]
        }
      ]
    },
    {
      "cell_type": "code",
      "metadata": {
        "id": "Oj3aSToEr64O"
      },
      "source": [
        "js = json.dumps(total)\n",
        "Details = open(\"sales.json\",'w')\n",
        "Details.write(js)\n",
        "Details.close()"
      ],
      "execution_count": null,
      "outputs": []
    },
    {
      "cell_type": "code",
      "metadata": {
        "id": "RxG_olZPsMnE"
      },
      "source": [
        "Details = open(\"sales.json\", 'r')\n",
        "Data = Details.read()\n",
        "Details.close()"
      ],
      "execution_count": null,
      "outputs": []
    },
    {
      "cell_type": "code",
      "metadata": {
        "id": "IIB37ozzwXja"
      },
      "source": [
        "js = json.dumps(total)\n",
        "Details = open(\"sales.txt\",'w')\n",
        "Details.write(js)\n",
        "Details.close()"
      ],
      "execution_count": null,
      "outputs": []
    },
    {
      "cell_type": "code",
      "metadata": {
        "id": "xXZ572rtwSfl"
      },
      "source": [
        "Detailsd = open(\"sales.txt\", 'r')\n",
        "Data = Details.read()\n",
        "Details.close()"
      ],
      "execution_count": null,
      "outputs": []
    },
    {
      "cell_type": "code",
      "metadata": {
        "colab": {
          "base_uri": "https://localhost:8080/",
          "height": 86
        },
        "id": "3Ccdyck5sXap",
        "outputId": "92893b72-f24c-4dfa-92fa-22361aae2e70"
      },
      "source": [
        "data\n",
        "print(time.ctime())"
      ],
      "execution_count": null,
      "outputs": [
        {
          "output_type": "execute_result",
          "data": {
            "application/vnd.google.colaboratory.intrinsic+json": {
              "type": "string"
            },
            "text/plain": [
              "'{\"1\": {\"item\": \"earphone\", \"quantity\": 3, \"price\": 189.0, \"SP\": 189.0, \"total\": 567.0}, \"2\": {\"item\": \"TEA\", \"quantity\": 6, \"price\": 49.0, \"SP\": 47.53, \"total\": 285.18}, \"3\": {\"item\": \"gooday\", \"quantity\": 8, \"price\": 149.0, \"SP\": 129.63, \"total\": 1037.04}, \"4\": {\"item\": \"HDD\", \"quantity\": 7, \"price\": 45.0, \"SP\": 43.199999999999996, \"total\": 302.4}, \"5\": {\"item\": \"hersheys\", \"quantity\": 2, \"price\": 149.0, \"SP\": 81.95, \"total\": 163.9}}'"
            ]
          },
          "metadata": {},
          "execution_count": 14
        }
      ]
    },
    {
      "cell_type": "code",
      "metadata": {
        "id": "_kbbrliQsZUZ"
      },
      "source": [
        "d = json.loads(t)"
      ],
      "execution_count": null,
      "outputs": []
    },
    {
      "cell_type": "code",
      "metadata": {
        "colab": {
          "base_uri": "https://localhost:8080/"
        },
        "id": "9ou0ztd3sgbu",
        "outputId": "389c8f8c-49e2-432c-a63b-311218a2a990"
      },
      "source": [
        "d"
      ],
      "execution_count": null,
      "outputs": [
        {
          "output_type": "execute_result",
          "data": {
            "text/plain": [
              "{'1': {'SP': 189.0,\n",
              "  'item': 'earphone',\n",
              "  'price': 189.0,\n",
              "  'quantity': 3,\n",
              "  'total': 567.0},\n",
              " '2': {'SP': 47.53,\n",
              "  'item': 'TEA',\n",
              "  'price': 49.0,\n",
              "  'quantity': 6,\n",
              "  'total': 285.18},\n",
              " '3': {'SP': 129.63,\n",
              "  'item': 'gooday',\n",
              "  'price': 149.0,\n",
              "  'quantity': 8,\n",
              "  'total': 1037.04},\n",
              " '4': {'SP': 43.199999999999996,\n",
              "  'item': 'HDD',\n",
              "  'price': 45.0,\n",
              "  'quantity': 7,\n",
              "  'total': 302.4},\n",
              " '5': {'SP': 81.95,\n",
              "  'item': 'hersheys',\n",
              "  'price': 149.0,\n",
              "  'quantity': 2,\n",
              "  'total': 163.9}}"
            ]
          },
          "metadata": {},
          "execution_count": 16
        }
      ]
    },
    {
      "cell_type": "code",
      "metadata": {
        "id": "LjvNxRSjv7je"
      },
      "source": [
        ""
      ],
      "execution_count": null,
      "outputs": []
    },
    {
      "cell_type": "code",
      "metadata": {
        "colab": {
          "base_uri": "https://localhost:8080/",
          "height": 35
        },
        "id": "FIppIEmDwLih",
        "outputId": "20a31015-e944-4a1b-87ae-b1c1486b9a25"
      },
      "source": [
        ""
      ],
      "execution_count": null,
      "outputs": [
        {
          "output_type": "execute_result",
          "data": {
            "application/vnd.google.colaboratory.intrinsic+json": {
              "type": "string"
            },
            "text/plain": [
              "'Fri Sep  3 03:43:41 2021'"
            ]
          },
          "metadata": {},
          "execution_count": 27
        }
      ]
    }
  ]
}